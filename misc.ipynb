{
 "cells": [
  {
   "cell_type": "code",
   "execution_count": 1,
   "metadata": {},
   "outputs": [],
   "source": [
    "import pyautogui\n",
    "import time\n",
    "def saveLog(burp_file_name):\n",
    "    pyautogui.moveTo(x=1512, y=596)\n",
    "    pyautogui.click()\n",
    "    time.sleep(3)\n",
    "    pyautogui.moveTo(x=1140, y=45)\n",
    "    pyautogui.click()\n",
    "    pyautogui.moveTo(x=331, y=68)\n",
    "    pyautogui.click()\n",
    "    pyautogui.moveTo(x=1344, y=230)\n",
    "    pyautogui.click()\n",
    "    pyautogui.moveTo(x=1395, y=743)\n",
    "    pyautogui.click()\n",
    "    pyautogui.moveTo(x=1134, y=335)\n",
    "    pyautogui.click()\n",
    "    pyautogui.moveTo(x=58, y=520)\n",
    "    pyautogui.click()\n",
    "    pyautogui.moveTo(x=375, y=520)\n",
    "    pyautogui.click()\n",
    "    pyautogui.write(f'{burp_file_name}.csv', interval=0.1)\n",
    "    pyautogui.moveTo(x=1455, y=859)\n",
    "    pyautogui.click()\n",
    "    time.sleep(10)\n",
    "    pyautogui.moveTo(x=1209, y=389)\n",
    "    pyautogui.click()\n"
   ]
  },
  {
   "cell_type": "code",
   "execution_count": 1,
   "metadata": {},
   "outputs": [
    {
     "name": "stdout",
     "output_type": "stream",
     "text": [
      "The current mouse position is: Point(x=1512, y=596)\n",
      "The current mouse position is: Point(x=1512, y=596)\n"
     ]
    }
   ],
   "source": [
    "import time\n",
    "import pyautogui\n",
    "i=2\n",
    "while i:\n",
    "    i-=1\n",
    "    time.sleep(5)\n",
    "\n",
    "    # Get the current mouse position\n",
    "    current_position = pyautogui.position()\n",
    "\n",
    "    # Print the coordinates\n",
    "    print(f\"The current mouse position is: {current_position}\")\n"
   ]
  },
  {
   "cell_type": "code",
   "execution_count": 8,
   "metadata": {},
   "outputs": [],
   "source": [
    "import os\n",
    "import shutil\n",
    "def cleanUpTemp():\n",
    "# Path to the Temp directory\n",
    "    temp_directory = r\"C:\\Users\\nnaye\\AppData\\Local\\Temp\"\n",
    "    # Iterate over all items in the Temp directory\n",
    "    for item in os.listdir(temp_directory):\n",
    "        item_path = os.path.join(temp_directory, item)\n",
    "        \n",
    "        # Check if the item is a directory and starts with 'burp'\n",
    "        if os.path.isdir(item_path) and item.startswith(\"burp\"):\n",
    "            try:\n",
    "                # Delete the directory\n",
    "                shutil.rmtree(item_path)\n",
    "                print(f\"Deleted folder: {item_path}\")\n",
    "            except Exception as e:\n",
    "                print(f\"Error deleting folder {item_path}: {e}\")\n"
   ]
  },
  {
   "cell_type": "code",
   "execution_count": 9,
   "metadata": {},
   "outputs": [
    {
     "name": "stdout",
     "output_type": "stream",
     "text": [
      "Deleted folder: C:\\Users\\nnaye\\AppData\\Local\\Temp\\burp14203963824268901499.tmp\n",
      "Deleted folder: C:\\Users\\nnaye\\AppData\\Local\\Temp\\burp1545799360534303887.tmp\n",
      "Deleted folder: C:\\Users\\nnaye\\AppData\\Local\\Temp\\burp15623661433321543758.tmp\n",
      "Deleted folder: C:\\Users\\nnaye\\AppData\\Local\\Temp\\burp7095309730898115580.tmp\n",
      "Opening Burp Suite with project file: E:\\dev\\burps\\blackboard.burp\n",
      "saving log\n",
      "Closed Burp Suite for project file: E:\\dev\\burps\\blackboard.burp\n",
      "\n",
      "Deleted folder: C:\\Users\\nnaye\\AppData\\Local\\Temp\\burp2357057952516704583.tmp\n",
      "Error deleting folder C:\\Users\\nnaye\\AppData\\Local\\Temp\\burp7139783688492274991.tmp: [WinError 32] The process cannot access the file because it is being used by another process: 'C:\\\\Users\\\\nnaye\\\\AppData\\\\Local\\\\Temp\\\\burp7139783688492274991.tmp\\\\0'\n",
      "Deleted folder: C:\\Users\\nnaye\\AppData\\Local\\Temp\\burp7863244150054068875.tmp\n",
      "Opening Burp Suite with project file: E:\\dev\\burps\\PT26049_Physna_Cobalt.burp\n",
      "saving log\n",
      "Closed Burp Suite for project file: E:\\dev\\burps\\PT26049_Physna_Cobalt.burp\n",
      "\n",
      "All .burp files processed.\n"
     ]
    }
   ],
   "source": [
    "import os\n",
    "import time\n",
    "import subprocess\n",
    "import glob\n",
    "\n",
    "# Path to Burp Suite executable and the directory containing .burp files\n",
    "burp_path = r\"C:\\Users\\nnaye\\AppData\\Local\\Programs\\BurpSuitePro\\BurpSuitePro.exe\"\n",
    "burp_files_directory = r\"E:\\dev\\burps\"\n",
    "# timeout_seconds = 60  # Run each burp file for 1 minute\n",
    "\n",
    "# Get a list of all .burp files in the directory\n",
    "burp_files = glob.glob(os.path.join(burp_files_directory, \"*.burp\"))\n",
    "\n",
    "for burp_file in burp_files:\n",
    "    cleanUpTemp()\n",
    "    print(f\"Opening Burp Suite with project file: {burp_file}\")\n",
    "    \n",
    "    # Create the command to run Burp Suite with the project file\n",
    "    cmd = f'\"{burp_path}\" --project-file=\"{burp_file}\"'\n",
    "    # Launch Burp Suite\n",
    "    process = subprocess.Popen(cmd, shell=True)\n",
    "    time.sleep(20)\n",
    "    print(\"saving log\")\n",
    "    saveLog(burp_file.split('\\\\')[-1].split('.')[0])\n",
    "    # Kill Burp Suite process\n",
    "    subprocess.call(['taskkill', '/F', '/IM', 'BurpSuitePro.exe'])\n",
    "  \n",
    "    print(f\"Closed Burp Suite for project file: {burp_file}\\n\")\n",
    "\n",
    "print(\"All .burp files processed.\")\n"
   ]
  },
  {
   "cell_type": "code",
   "execution_count": 19,
   "metadata": {},
   "outputs": [],
   "source": [
    "from selenium import webdriver\n",
    "import time\n",
    "driver = webdriver.Chrome()\n",
    "driver.get(\"https://lordbirthday.vercel.app/\")\n",
    "# Scroll down slowly\n",
    "scroll_pause_time = 1  # seconds\n",
    "last_height = driver.execute_script(\"return document.body.scrollHeight\")\n",
    "\n",
    "while True:\n",
    "    # Scroll down to the bottom\n",
    "    driver.execute_script(\"window.scrollTo(0, document.body.scrollHeight);\")\n",
    "    \n",
    "    # Wait to load the page\n",
    "    time.sleep(scroll_pause_time)\n",
    "    \n",
    "    # Calculate new scroll height and compare with last scroll height\n",
    "    new_height = driver.execute_script(\"return document.body.scrollHeight\")\n",
    "    if new_height == last_height:\n",
    "        break\n",
    "    last_height = new_height\n"
   ]
  },
  {
   "cell_type": "code",
   "execution_count": 17,
   "metadata": {},
   "outputs": [],
   "source": [
    "from selenium import webdriver\n",
    "from selenium.webdriver.common.by import By\n",
    "driver = webdriver.Chrome()\n",
    "driver.get(\"https://www.selenium.dev/selenium/web/web-form.html\")\n",
    "    \n",
    "text_box = driver.find_element(by=By.NAME, value=\"my-text\")\n",
    "text_box.send_keys(\"Selenium\")\n",
    "submit_button = driver.find_element(by=By.CSS_SELECTOR, value=\"button\")\n",
    "\n",
    "# def test_eight_components():\n",
    "#     driver = setup()\n",
    "   \n",
    "\n",
    "#     # text_box = driver.find_element(by=By.NAME, value=\"my-text\")\n",
    "#     # submit_button = driver.find_element(by=By.CSS_SELECTOR, value=\"button\")\n",
    "\n",
    "#     # text_box.send_keys(\"Selenium\")\n",
    "#     # submit_button.click()\n",
    "\n",
    "#     # message = driver.find_element(by=By.ID, value=\"message\")\n",
    "#     # value = message.text\n",
    "#     # assert value == \"Received!\"\n",
    "\n",
    "#     # teardown(driver)\n",
    "\n",
    "# def setup():\n",
    "#     driver = webdriver.Chrome()\n",
    "#     driver.get(\"https://www.selenium.dev/selenium/web/web-form.html\")\n",
    "#     return driver\n",
    "\n",
    "# def teardown(driver):\n",
    "#     driver.quit()\n",
    "# test_eight_components()"
   ]
  }
 ],
 "metadata": {
  "kernelspec": {
   "display_name": "Python 3",
   "language": "python",
   "name": "python3"
  },
  "language_info": {
   "codemirror_mode": {
    "name": "ipython",
    "version": 3
   },
   "file_extension": ".py",
   "mimetype": "text/x-python",
   "name": "python",
   "nbconvert_exporter": "python",
   "pygments_lexer": "ipython3",
   "version": "3.12.7"
  }
 },
 "nbformat": 4,
 "nbformat_minor": 2
}
